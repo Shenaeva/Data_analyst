{
 "cells": [
  {
   "cell_type": "markdown",
   "id": "dc3311a0-a690-4c5c-b2f0-d42a6fa7b6d1",
   "metadata": {},
   "source": [
    "## Импорт библиотек"
   ]
  },
  {
   "cell_type": "code",
   "execution_count": 1,
   "id": "21926db3-d5ac-4c17-aa27-98bf87327437",
   "metadata": {},
   "outputs": [],
   "source": [
    "import pandas as pd \n",
    "import numpy as np\n",
    "import matplotlib.pyplot as plt\n",
    "import seaborn as sns\n",
    "import warnings \n",
    "warnings.filterwarnings(\"ignore\")"
   ]
  },
  {
   "cell_type": "markdown",
   "id": "688fe0f3-7b2c-4413-9966-fd2aa58e93ef",
   "metadata": {},
   "source": [
    "## Импорт датасета"
   ]
  },
  {
   "cell_type": "code",
   "execution_count": 2,
   "id": "8a807e26-87aa-4cb9-b6fd-efb1563aa438",
   "metadata": {},
   "outputs": [
    {
     "name": "stdout",
     "output_type": "stream",
     "text": [
      "Collecting kagglehub\n",
      "  Downloading kagglehub-0.3.13-py3-none-any.whl.metadata (38 kB)\n",
      "Requirement already satisfied: packaging in /Users/olgasenaeva/anaconda3/envs/myenv/lib/python3.9/site-packages (from kagglehub) (25.0)\n",
      "Requirement already satisfied: pyyaml in /Users/olgasenaeva/anaconda3/envs/myenv/lib/python3.9/site-packages (from kagglehub) (6.0.2)\n",
      "Requirement already satisfied: requests in /Users/olgasenaeva/anaconda3/envs/myenv/lib/python3.9/site-packages (from kagglehub) (2.32.4)\n",
      "Collecting tqdm (from kagglehub)\n",
      "  Downloading tqdm-4.67.1-py3-none-any.whl.metadata (57 kB)\n",
      "Requirement already satisfied: charset_normalizer<4,>=2 in /Users/olgasenaeva/anaconda3/envs/myenv/lib/python3.9/site-packages (from requests->kagglehub) (3.4.2)\n",
      "Requirement already satisfied: idna<4,>=2.5 in /Users/olgasenaeva/anaconda3/envs/myenv/lib/python3.9/site-packages (from requests->kagglehub) (3.10)\n",
      "Requirement already satisfied: urllib3<3,>=1.21.1 in /Users/olgasenaeva/anaconda3/envs/myenv/lib/python3.9/site-packages (from requests->kagglehub) (2.5.0)\n",
      "Requirement already satisfied: certifi>=2017.4.17 in /Users/olgasenaeva/anaconda3/envs/myenv/lib/python3.9/site-packages (from requests->kagglehub) (2025.7.14)\n",
      "Downloading kagglehub-0.3.13-py3-none-any.whl (68 kB)\n",
      "Downloading tqdm-4.67.1-py3-none-any.whl (78 kB)\n",
      "Installing collected packages: tqdm, kagglehub\n",
      "\u001b[2K   \u001b[90m━━━━━━━━━━━━━━━━━━━━━━━━━━━━━━━━━━━━━━━━\u001b[0m \u001b[32m2/2\u001b[0m [kagglehub]\n",
      "\u001b[1A\u001b[2KSuccessfully installed kagglehub-0.3.13 tqdm-4.67.1\n",
      "Downloading from https://www.kaggle.com/api/v1/datasets/download/mamunhasan2cs/student-academic-performance-synthetic-dataset?dataset_version_number=1...\n"
     ]
    },
    {
     "name": "stderr",
     "output_type": "stream",
     "text": [
      "100%|██████████| 9.07k/9.07k [00:00<00:00, 3.62MB/s]"
     ]
    },
    {
     "name": "stdout",
     "output_type": "stream",
     "text": [
      "Extracting files...\n",
      "Path to dataset files: /Users/olgasenaeva/.cache/kagglehub/datasets/mamunhasan2cs/student-academic-performance-synthetic-dataset/versions/1\n"
     ]
    },
    {
     "name": "stderr",
     "output_type": "stream",
     "text": [
      "\n"
     ]
    }
   ],
   "source": [
    "# !pip install kagglehub\n",
    "import kagglehub\n",
    "\n",
    "path = kagglehub.dataset_download(\"mamunhasan2cs/student-academic-performance-synthetic-dataset\")\n",
    "\n",
    "print(\"Path to dataset files:\", path)"
   ]
  },
  {
   "cell_type": "code",
   "execution_count": 52,
   "id": "1f96a5c7-1ef2-4783-bb15-5cb3ae210961",
   "metadata": {},
   "outputs": [],
   "source": [
    "ds = pd.read_csv(\"/Users/olgasenaeva/.cache/kagglehub/datasets/mamunhasan2cs/student-academic-performance-synthetic-dataset/versions/1/student_performance.csv\")"
   ]
  },
  {
   "cell_type": "markdown",
   "id": "9993ea77-f2e7-4489-abef-c9c3f46cfb59",
   "metadata": {},
   "source": [
    "## Анализ данных"
   ]
  },
  {
   "cell_type": "code",
   "execution_count": 53,
   "id": "d3a43c4d-75e4-49a3-b2e9-43e6e7c0f779",
   "metadata": {},
   "outputs": [
    {
     "name": "stdout",
     "output_type": "stream",
     "text": [
      "=== Общая информация о данных ===\n",
      "<class 'pandas.core.frame.DataFrame'>\n",
      "RangeIndex: 1020 entries, 0 to 1019\n",
      "Data columns (total 7 columns):\n",
      " #   Column         Non-Null Count  Dtype  \n",
      "---  ------         --------------  -----  \n",
      " 0   Student_ID     1020 non-null   object \n",
      " 1   Age            1020 non-null   int64  \n",
      " 2   Gender         1020 non-null   object \n",
      " 3   Study_Hours    989 non-null    float64\n",
      " 4   Attendance(%)  990 non-null    float64\n",
      " 5   Test_Score     1020 non-null   float64\n",
      " 6   Grade          1011 non-null   object \n",
      "dtypes: float64(3), int64(1), object(3)\n",
      "memory usage: 55.9+ KB\n",
      "\n",
      "Количество строк и столбцов: (1020, 7)\n",
      "\n",
      "=== Пропущенные значения ===\n",
      "Study_Hours      31\n",
      "Attendance(%)    30\n",
      "Grade             9\n",
      "dtype: int64\n",
      "\n",
      "=== Процент пропусков ===\n",
      "Student_ID       0.00\n",
      "Age              0.00\n",
      "Gender           0.00\n",
      "Study_Hours      3.04\n",
      "Attendance(%)    2.94\n",
      "Test_Score       0.00\n",
      "Grade            0.88\n",
      "dtype: float64\n",
      "\n",
      "=== Дубликаты ===\n",
      "Количество дублирующих строк: 20\n",
      "\n",
      "=== Количество уникальных значений (для object-столбцов) ===\n",
      "Student_ID: 1000 уникальных значений\n",
      "Gender: 2 уникальных значений\n",
      "Grade: 5 уникальных значений\n",
      "\n",
      "=== Описательная статистика (numeric features) ===\n"
     ]
    },
    {
     "data": {
      "text/html": [
       "<div>\n",
       "<style scoped>\n",
       "    .dataframe tbody tr th:only-of-type {\n",
       "        vertical-align: middle;\n",
       "    }\n",
       "\n",
       "    .dataframe tbody tr th {\n",
       "        vertical-align: top;\n",
       "    }\n",
       "\n",
       "    .dataframe thead th {\n",
       "        text-align: right;\n",
       "    }\n",
       "</style>\n",
       "<table border=\"1\" class=\"dataframe\">\n",
       "  <thead>\n",
       "    <tr style=\"text-align: right;\">\n",
       "      <th></th>\n",
       "      <th>Age</th>\n",
       "      <th>Study_Hours</th>\n",
       "      <th>Attendance(%)</th>\n",
       "      <th>Test_Score</th>\n",
       "    </tr>\n",
       "  </thead>\n",
       "  <tbody>\n",
       "    <tr>\n",
       "      <th>count</th>\n",
       "      <td>1020.00</td>\n",
       "      <td>989.00</td>\n",
       "      <td>990.00</td>\n",
       "      <td>1020.00</td>\n",
       "    </tr>\n",
       "    <tr>\n",
       "      <th>mean</th>\n",
       "      <td>20.97</td>\n",
       "      <td>5.16</td>\n",
       "      <td>84.87</td>\n",
       "      <td>49.84</td>\n",
       "    </tr>\n",
       "    <tr>\n",
       "      <th>std</th>\n",
       "      <td>2.01</td>\n",
       "      <td>2.56</td>\n",
       "      <td>10.01</td>\n",
       "      <td>21.28</td>\n",
       "    </tr>\n",
       "    <tr>\n",
       "      <th>min</th>\n",
       "      <td>18.00</td>\n",
       "      <td>-2.00</td>\n",
       "      <td>50.30</td>\n",
       "      <td>0.00</td>\n",
       "    </tr>\n",
       "    <tr>\n",
       "      <th>25%</th>\n",
       "      <td>19.00</td>\n",
       "      <td>3.70</td>\n",
       "      <td>78.00</td>\n",
       "      <td>35.00</td>\n",
       "    </tr>\n",
       "    <tr>\n",
       "      <th>50%</th>\n",
       "      <td>21.00</td>\n",
       "      <td>5.10</td>\n",
       "      <td>85.00</td>\n",
       "      <td>50.00</td>\n",
       "    </tr>\n",
       "    <tr>\n",
       "      <th>75%</th>\n",
       "      <td>23.00</td>\n",
       "      <td>6.30</td>\n",
       "      <td>91.98</td>\n",
       "      <td>64.00</td>\n",
       "    </tr>\n",
       "    <tr>\n",
       "      <th>max</th>\n",
       "      <td>24.00</td>\n",
       "      <td>25.00</td>\n",
       "      <td>115.60</td>\n",
       "      <td>100.00</td>\n",
       "    </tr>\n",
       "  </tbody>\n",
       "</table>\n",
       "</div>"
      ],
      "text/plain": [
       "           Age  Study_Hours  Attendance(%)  Test_Score\n",
       "count  1020.00       989.00         990.00     1020.00\n",
       "mean     20.97         5.16          84.87       49.84\n",
       "std       2.01         2.56          10.01       21.28\n",
       "min      18.00        -2.00          50.30        0.00\n",
       "25%      19.00         3.70          78.00       35.00\n",
       "50%      21.00         5.10          85.00       50.00\n",
       "75%      23.00         6.30          91.98       64.00\n",
       "max      24.00        25.00         115.60      100.00"
      ]
     },
     "metadata": {},
     "output_type": "display_data"
    }
   ],
   "source": [
    "print(\"=== Общая информация о данных ===\")\n",
    "ds.info()\n",
    "\n",
    "print(\"\\nКоличество строк и столбцов:\", ds.shape)\n",
    "\n",
    "# Проверка пропущенных значений\n",
    "print(\"\\n=== Пропущенные значения ===\")\n",
    "missing = ds.isnull().sum()\n",
    "print(missing[missing > 0].sort_values(ascending=False))\n",
    "\n",
    "# Процент пропусков\n",
    "print(\"\\n=== Процент пропусков ===\")\n",
    "print((ds.isnull().sum() / len(ds) * 100).round(2))\n",
    "\n",
    "# Проверка дубликатов\n",
    "print(\"\\n=== Дубликаты ===\")\n",
    "duplicates = ds.duplicated().sum()\n",
    "print(f\"Количество дублирующих строк: {duplicates}\")\n",
    "\n",
    "print(\"\\n=== Количество уникальных значений (для object-столбцов) ===\")\n",
    "for col in ds.select_dtypes(include='object').columns:\n",
    "    print(f\"{col}: {ds[col].nunique()} уникальных значений\")\n",
    "\n",
    "# Проверка статистики для числовых признаков\n",
    "print(\"\\n=== Описательная статистика (numeric features) ===\")\n",
    "display(ds.describe().round(2))"
   ]
  },
  {
   "cell_type": "markdown",
   "id": "ecff0311-94cc-4a72-b22d-32a58edeeed7",
   "metadata": {},
   "source": [
    "# Выводы\n",
    "1. Общая информация:\n",
    "    - Датасет состоит из 1020 строк и 7 столбцов;\n",
    "    - Типы данных корректные: числовые — 4 столбца, категориальные — 3.\n",
    "2. Пропущенные значения:\n",
    "    - Значения пропущены в `Study_Hours` (int) - 3.04%, `Attendance(%)` (int) - 2.94%, `Grade` (object) - 0.88 %;\n",
    "    - Доля пропусков небольшая, критического значения на анлиз датасета не имеет.\n",
    "3. Дубликаты:\n",
    "    - Имеется 20 дубликатов. Необходимо их удалить.\n",
    "4. Уникальные значения:\n",
    "   - `Student_ID` 1000 уникальных ID, `Gender` - 2 уникальных значения (очевидно “Male” / “Female”), `Grade` - 5 уникальных категорий (вероятно, A–E или аналогичная шкала).\n",
    "5. Описательная статистика:\n",
    "    - Средний возраст студентов — ≈21 год, диапазон от 18 до 24 лет (реалистично, без выбросов);\n",
    "    - Среднее количество учебных часов — 5.2 часа, но встречаются значения до 25 и даже отрицательные, что указывает на ошибки или выбросы;\n",
    "    - Средняя посещаемость — ≈85%, но есть значения свыше 100%, что также свидетельствует о выбросах или некорректных данных;\n",
    "    - Средний балл за тест — ≈50 из 100, разброс умеренный (σ ≈ 21), данные выглядят реалистично."
   ]
  },
  {
   "cell_type": "markdown",
   "id": "a16aad97-d240-4094-9247-616ac3933527",
   "metadata": {},
   "source": [
    "## Удаление дубликатов"
   ]
  },
  {
   "cell_type": "code",
   "execution_count": 54,
   "id": "365d4fc8-5e42-4646-ae86-45d5baa82657",
   "metadata": {},
   "outputs": [],
   "source": [
    "ds = ds.drop_duplicates()"
   ]
  },
  {
   "cell_type": "code",
   "execution_count": 55,
   "id": "bc06470d-1ae1-4824-996a-c92c80f93ec5",
   "metadata": {},
   "outputs": [
    {
     "name": "stdout",
     "output_type": "stream",
     "text": [
      "\n",
      "=== Дубликаты ===\n",
      "Количество дублирующих строк: 0\n"
     ]
    }
   ],
   "source": [
    "# Проверка результатов удаления дубликатов\n",
    "print(\"\\n=== Дубликаты ===\")\n",
    "duplicates = ds.duplicated().sum()\n",
    "print(f\"Количество дублирующих строк: {duplicates}\")"
   ]
  },
  {
   "cell_type": "markdown",
   "id": "3ac9fd7e-7e02-49cf-97ca-ce719d58d0ec",
   "metadata": {},
   "source": [
    "## Масштабирование по min/max значениям"
   ]
  },
  {
   "cell_type": "code",
   "execution_count": 79,
   "id": "b974cb1f-5f14-4b99-8934-1ea75875eb3e",
   "metadata": {},
   "outputs": [],
   "source": [
    "columns = ['Study_Hours', 'Attendance(%)', 'Test_Score']"
   ]
  },
  {
   "cell_type": "code",
   "execution_count": 80,
   "id": "132886d8-2593-4bd7-8107-ba78dd0dbf7c",
   "metadata": {},
   "outputs": [
    {
     "data": {
      "text/html": [
       "<div>\n",
       "<style scoped>\n",
       "    .dataframe tbody tr th:only-of-type {\n",
       "        vertical-align: middle;\n",
       "    }\n",
       "\n",
       "    .dataframe tbody tr th {\n",
       "        vertical-align: top;\n",
       "    }\n",
       "\n",
       "    .dataframe thead th {\n",
       "        text-align: right;\n",
       "    }\n",
       "</style>\n",
       "<table border=\"1\" class=\"dataframe\">\n",
       "  <thead>\n",
       "    <tr style=\"text-align: right;\">\n",
       "      <th></th>\n",
       "      <th>Study_Hours</th>\n",
       "      <th>Attendance(%)</th>\n",
       "      <th>Test_Score</th>\n",
       "    </tr>\n",
       "  </thead>\n",
       "  <tbody>\n",
       "    <tr>\n",
       "      <th>0</th>\n",
       "      <td>0.174074</td>\n",
       "      <td>0.362940</td>\n",
       "      <td>37.0</td>\n",
       "    </tr>\n",
       "    <tr>\n",
       "      <th>1</th>\n",
       "      <td>0.129630</td>\n",
       "      <td>0.655436</td>\n",
       "      <td>26.0</td>\n",
       "    </tr>\n",
       "    <tr>\n",
       "      <th>2</th>\n",
       "      <td>0.325926</td>\n",
       "      <td>0.718224</td>\n",
       "      <td>88.0</td>\n",
       "    </tr>\n",
       "    <tr>\n",
       "      <th>3</th>\n",
       "      <td>0.303704</td>\n",
       "      <td>0.661562</td>\n",
       "      <td>55.0</td>\n",
       "    </tr>\n",
       "    <tr>\n",
       "      <th>4</th>\n",
       "      <td>0.348148</td>\n",
       "      <td>0.748851</td>\n",
       "      <td>77.0</td>\n",
       "    </tr>\n",
       "  </tbody>\n",
       "</table>\n",
       "</div>"
      ],
      "text/plain": [
       "   Study_Hours  Attendance(%)  Test_Score\n",
       "0     0.174074       0.362940        37.0\n",
       "1     0.129630       0.655436        26.0\n",
       "2     0.325926       0.718224        88.0\n",
       "3     0.303704       0.661562        55.0\n",
       "4     0.348148       0.748851        77.0"
      ]
     },
     "execution_count": 80,
     "metadata": {},
     "output_type": "execute_result"
    }
   ],
   "source": [
    "# Анализ\n",
    "ds[columns].head()"
   ]
  },
  {
   "cell_type": "code",
   "execution_count": 81,
   "id": "e5008e86-a4c2-4135-8808-147938c420c0",
   "metadata": {},
   "outputs": [
    {
     "name": "stdout",
     "output_type": "stream",
     "text": [
      "0.06666666666666668 0.45185185185185184 0.3851851851851852\n",
      "0.0 1.0 1.0\n",
      "0.0 100.0 100.0\n",
      "\n",
      "=== После масштабирования ===\n"
     ]
    },
    {
     "data": {
      "text/html": [
       "<div>\n",
       "<style scoped>\n",
       "    .dataframe tbody tr th:only-of-type {\n",
       "        vertical-align: middle;\n",
       "    }\n",
       "\n",
       "    .dataframe tbody tr th {\n",
       "        vertical-align: top;\n",
       "    }\n",
       "\n",
       "    .dataframe thead th {\n",
       "        text-align: right;\n",
       "    }\n",
       "</style>\n",
       "<table border=\"1\" class=\"dataframe\">\n",
       "  <thead>\n",
       "    <tr style=\"text-align: right;\">\n",
       "      <th></th>\n",
       "      <th>Study_Hours</th>\n",
       "      <th>Attendance(%)</th>\n",
       "      <th>Test_Score</th>\n",
       "    </tr>\n",
       "  </thead>\n",
       "  <tbody>\n",
       "    <tr>\n",
       "      <th>0</th>\n",
       "      <td>0.278846</td>\n",
       "      <td>0.362940</td>\n",
       "      <td>0.37</td>\n",
       "    </tr>\n",
       "    <tr>\n",
       "      <th>1</th>\n",
       "      <td>0.163462</td>\n",
       "      <td>0.655436</td>\n",
       "      <td>0.26</td>\n",
       "    </tr>\n",
       "    <tr>\n",
       "      <th>2</th>\n",
       "      <td>0.673077</td>\n",
       "      <td>0.718224</td>\n",
       "      <td>0.88</td>\n",
       "    </tr>\n",
       "    <tr>\n",
       "      <th>3</th>\n",
       "      <td>0.615385</td>\n",
       "      <td>0.661562</td>\n",
       "      <td>0.55</td>\n",
       "    </tr>\n",
       "    <tr>\n",
       "      <th>4</th>\n",
       "      <td>0.730769</td>\n",
       "      <td>0.748851</td>\n",
       "      <td>0.77</td>\n",
       "    </tr>\n",
       "  </tbody>\n",
       "</table>\n",
       "</div>"
      ],
      "text/plain": [
       "   Study_Hours  Attendance(%)  Test_Score\n",
       "0     0.278846       0.362940        0.37\n",
       "1     0.163462       0.655436        0.26\n",
       "2     0.673077       0.718224        0.88\n",
       "3     0.615385       0.661562        0.55\n",
       "4     0.730769       0.748851        0.77"
      ]
     },
     "execution_count": 81,
     "metadata": {},
     "output_type": "execute_result"
    }
   ],
   "source": [
    "for column in columns:\n",
    "    minVal = ds[column].min()\n",
    "    maxVal = ds[column].max()\n",
    "    valRange = maxVal - minVal\n",
    "    print(minVal, maxVal, valRange)\n",
    "\n",
    "    ds[column] = ds[column].transform(lambda x: (x - minVal) / valRange)\n",
    "\n",
    "print(\"\\n=== После масштабирования ===\")\n",
    "ds[columns].head()"
   ]
  },
  {
   "cell_type": "markdown",
   "id": "3d103877-9b4b-4f6a-9c5d-04e94439c049",
   "metadata": {},
   "source": [
    "## Обработка выбросов"
   ]
  },
  {
   "cell_type": "code",
   "execution_count": 59,
   "id": "ef4a814b-b984-42f8-91a1-4d1d9a4068ca",
   "metadata": {},
   "outputs": [
    {
     "name": "stdout",
     "output_type": "stream",
     "text": [
      "\n",
      "=== Потенциальные выбросы по числовым признакам ===\n",
      "Age: выбросов = 0\n",
      "Study_Hours: выбросов = 18\n",
      "Attendance(%): выбросов = 4\n",
      "Test_Score: выбросов = 0\n",
      "\n",
      "=== Графики распределения ===\n"
     ]
    },
    {
     "data": {
      "image/png": "[encoded data removed]",
      "text/plain": [
       "<Figure size 1200x800 with 4 Axes>"
      ]
     },
     "metadata": {},
     "output_type": "display_data"
    }
   ],
   "source": [
    "# Анализ\n",
    "# Поиск выбросов с помощью IQR (межквартильный размах)\n",
    "print(\"\\n=== Потенциальные выбросы по числовым признакам ===\")\n",
    "numeric_cols = ds.select_dtypes(include=np.number).columns\n",
    "\n",
    "for col in numeric_cols:\n",
    "    Q1 = ds[col].quantile(0.25)\n",
    "    Q3 = ds[col].quantile(0.75)\n",
    "    IQR = Q3 - Q1\n",
    "    lower = Q1 - 1.5 * IQR\n",
    "    upper = Q3 + 1.5 * IQR\n",
    "    outliers = ds[(ds[col] < lower) | (ds[col] > upper)]\n",
    "    print(f\"{col}: выбросов = {outliers.shape[0]}\")\n",
    "\n",
    "# Визуализация распределений (для наглядности)\n",
    "print(\"\\n=== Графики распределения ===\")\n",
    "numeric_cols = ds.select_dtypes(include=np.number).columns\n",
    "n_cols = 2  # количество графиков в строке\n",
    "n_rows = int(np.ceil(len(numeric_cols) / n_cols))\n",
    "\n",
    "fig, axes = plt.subplots(n_rows, n_cols, figsize=(12, 4 * n_rows))\n",
    "axes = axes.flatten()  # превращаем в одномерный список для удобства\n",
    "\n",
    "for i, col in enumerate(numeric_cols):\n",
    "    sns.boxplot(data=ds, x=col, ax=axes[i])\n",
    "    axes[i].set_title(f\"Boxplot: {col}\")\n",
    "    axes[i].set_xlabel(\"\")\n",
    "\n",
    "# Удаляем пустые оси (если графиков меньше, чем ячеек)\n",
    "for j in range(i + 1, len(axes)):\n",
    "    fig.delaxes(axes[j])\n",
    "\n",
    "plt.tight_layout()\n",
    "plt.show()"
   ]
  },
  {
   "cell_type": "markdown",
   "id": "9979f1b1-4e65-48a9-bbc5-e447bb9a09da",
   "metadata": {},
   "source": [
    "Выводы:\n",
    "    - `Study_Hours` — 18 выбросов, включая нереалистичные значения (например, 0);\n",
    "    - `Attendance(%)` — 4 выброса, вероятно, ошибки записи (значение >100%);\n",
    "    - `Age` и `Test_Score` — выбросов не выявлено, данные в допустимых пределах."
   ]
  },
  {
   "cell_type": "code",
   "execution_count": 61,
   "id": "f19d1233-0577-46bf-860e-fe5412c0e64b",
   "metadata": {},
   "outputs": [],
   "source": [
    "# Обработка выбросов\n",
    "# Study_Hours — обрезаем по IQR\n",
    "Q1, Q3 = ds['Study_Hours'].quantile([0.25, 0.75])\n",
    "IQR = Q3 - Q1\n",
    "\n",
    "low = Q1 - 1.5 * IQR\n",
    "high = Q3 + 1.5 * IQR\n",
    "\n",
    "# Обрезаем значения за пределами IQR\n",
    "ds['Study_Hours'] = ds['Study_Hours'].clip(lower=max(0, low), upper=min(1, high))\n",
    "\n",
    "# Attendance(%)\n",
    "ds['Attendance(%)'] = ds['Attendance(%)'].clip(0, 1)"
   ]
  },
  {
   "cell_type": "code",
   "execution_count": 63,
   "id": "5a47962c-9e97-4c0d-869c-0326dc837063",
   "metadata": {},
   "outputs": [
    {
     "name": "stdout",
     "output_type": "stream",
     "text": [
      "Границы IQR для Study_Hours: 0.067 — 0.452\n",
      "Минимум после очистки: 0.067\n",
      "Максимум после очистки: 0.452\n",
      "\n",
      "После обработки выбросов:\n"
     ]
    },
    {
     "data": {
      "text/html": [
       "<div>\n",
       "<style scoped>\n",
       "    .dataframe tbody tr th:only-of-type {\n",
       "        vertical-align: middle;\n",
       "    }\n",
       "\n",
       "    .dataframe tbody tr th {\n",
       "        vertical-align: top;\n",
       "    }\n",
       "\n",
       "    .dataframe thead th {\n",
       "        text-align: right;\n",
       "    }\n",
       "</style>\n",
       "<table border=\"1\" class=\"dataframe\">\n",
       "  <thead>\n",
       "    <tr style=\"text-align: right;\">\n",
       "      <th></th>\n",
       "      <th>Age</th>\n",
       "      <th>Study_Hours</th>\n",
       "      <th>Attendance(%)</th>\n",
       "      <th>Test_Score</th>\n",
       "    </tr>\n",
       "  </thead>\n",
       "  <tbody>\n",
       "    <tr>\n",
       "      <th>count</th>\n",
       "      <td>1000.00</td>\n",
       "      <td>970.00</td>\n",
       "      <td>970.00</td>\n",
       "      <td>1000.00</td>\n",
       "    </tr>\n",
       "    <tr>\n",
       "      <th>mean</th>\n",
       "      <td>20.96</td>\n",
       "      <td>0.26</td>\n",
       "      <td>0.53</td>\n",
       "      <td>49.81</td>\n",
       "    </tr>\n",
       "    <tr>\n",
       "      <th>std</th>\n",
       "      <td>2.00</td>\n",
       "      <td>0.07</td>\n",
       "      <td>0.15</td>\n",
       "      <td>21.19</td>\n",
       "    </tr>\n",
       "    <tr>\n",
       "      <th>min</th>\n",
       "      <td>18.00</td>\n",
       "      <td>0.07</td>\n",
       "      <td>0.00</td>\n",
       "      <td>0.00</td>\n",
       "    </tr>\n",
       "    <tr>\n",
       "      <th>25%</th>\n",
       "      <td>19.00</td>\n",
       "      <td>0.21</td>\n",
       "      <td>0.42</td>\n",
       "      <td>35.00</td>\n",
       "    </tr>\n",
       "    <tr>\n",
       "      <th>50%</th>\n",
       "      <td>21.00</td>\n",
       "      <td>0.26</td>\n",
       "      <td>0.53</td>\n",
       "      <td>50.00</td>\n",
       "    </tr>\n",
       "    <tr>\n",
       "      <th>75%</th>\n",
       "      <td>23.00</td>\n",
       "      <td>0.31</td>\n",
       "      <td>0.64</td>\n",
       "      <td>64.00</td>\n",
       "    </tr>\n",
       "    <tr>\n",
       "      <th>max</th>\n",
       "      <td>24.00</td>\n",
       "      <td>0.45</td>\n",
       "      <td>1.00</td>\n",
       "      <td>100.00</td>\n",
       "    </tr>\n",
       "  </tbody>\n",
       "</table>\n",
       "</div>"
      ],
      "text/plain": [
       "           Age  Study_Hours  Attendance(%)  Test_Score\n",
       "count  1000.00       970.00         970.00     1000.00\n",
       "mean     20.96         0.26           0.53       49.81\n",
       "std       2.00         0.07           0.15       21.19\n",
       "min      18.00         0.07           0.00        0.00\n",
       "25%      19.00         0.21           0.42       35.00\n",
       "50%      21.00         0.26           0.53       50.00\n",
       "75%      23.00         0.31           0.64       64.00\n",
       "max      24.00         0.45           1.00      100.00"
      ]
     },
     "metadata": {},
     "output_type": "display_data"
    }
   ],
   "source": [
    "# Проверка после обработки выбросов\n",
    "print(\"Границы IQR для Study_Hours:\", round(low, 3), \"—\", round(high, 3))\n",
    "print(\"Минимум после очистки:\", round(ds['Study_Hours'].min(), 3))\n",
    "print(\"Максимум после очистки:\", round(ds['Study_Hours'].max(), 3))\n",
    "\n",
    "print(\"\\nПосле обработки выбросов:\")\n",
    "display(ds.describe().round(2))"
   ]
  },
  {
   "cell_type": "markdown",
   "id": "75e4869b-17c7-414e-8690-dcf1c66246a8",
   "metadata": {},
   "source": [
    "# Вывод\n",
    "1. После обработки выбросов данные приведены к реалистичным диапазонам.\n",
    "2. `Study_Hours` обрезан по IQR, отрицательные значения заменены на 0.\n",
    "3. `Attendance(%)` ограничен в пределах 0–1%.\n",
    "5. Нереалистичные значения устранены без потери данных."
   ]
  },
  {
   "cell_type": "markdown",
   "id": "c798bbcd-6461-4aa7-81d3-ad6033d4c03f",
   "metadata": {},
   "source": [
    "## Обработка пропусков"
   ]
  },
  {
   "cell_type": "code",
   "execution_count": 64,
   "id": "06713f37-7e4e-4ef6-9bf8-4a204a746858",
   "metadata": {},
   "outputs": [
    {
     "name": "stdout",
     "output_type": "stream",
     "text": [
      "\n",
      "=== Пропущенные значения ===\n",
      "Study_Hours      30\n",
      "Attendance(%)    30\n",
      "Grade             8\n",
      "dtype: int64\n"
     ]
    }
   ],
   "source": [
    "print(\"\\n=== Пропущенные значения ===\")\n",
    "missing = ds.isnull().sum()\n",
    "print(missing[missing > 0].sort_values(ascending=False))"
   ]
  },
  {
   "cell_type": "code",
   "execution_count": 65,
   "id": "2d195375-a947-429c-a420-d2ccb92b4d47",
   "metadata": {},
   "outputs": [],
   "source": [
    "# Замена числовых пропусков\n",
    "ds['Study_Hours'].fillna(ds['Study_Hours'].median(), inplace=True)\n",
    "ds['Attendance(%)'].fillna(ds['Attendance(%)'].median(), inplace=True)"
   ]
  },
  {
   "cell_type": "code",
   "execution_count": 66,
   "id": "c1acf2e9-68ba-45a6-bd93-91585e8469b9",
   "metadata": {},
   "outputs": [
    {
     "name": "stdout",
     "output_type": "stream",
     "text": [
      "\n",
      "=== Пропущенные значения ===\n",
      "Grade    8\n",
      "dtype: int64\n"
     ]
    }
   ],
   "source": [
    "# Проверка результатов заполнения числовых пропусков\n",
    "print(\"\\n=== Пропущенные значения ===\")\n",
    "missing = ds.isnull().sum()\n",
    "print(missing[missing > 0].sort_values(ascending=False))"
   ]
  },
  {
   "cell_type": "code",
   "execution_count": 67,
   "id": "11da362e-09db-4731-9420-430379a3c9db",
   "metadata": {},
   "outputs": [
    {
     "data": {
      "text/html": [
       "<div>\n",
       "<style scoped>\n",
       "    .dataframe tbody tr th:only-of-type {\n",
       "        vertical-align: middle;\n",
       "    }\n",
       "\n",
       "    .dataframe tbody tr th {\n",
       "        vertical-align: top;\n",
       "    }\n",
       "\n",
       "    .dataframe thead th {\n",
       "        text-align: right;\n",
       "    }\n",
       "</style>\n",
       "<table border=\"1\" class=\"dataframe\">\n",
       "  <thead>\n",
       "    <tr style=\"text-align: right;\">\n",
       "      <th></th>\n",
       "      <th>Student_ID</th>\n",
       "      <th>Age</th>\n",
       "      <th>Gender</th>\n",
       "      <th>Study_Hours</th>\n",
       "      <th>Attendance(%)</th>\n",
       "      <th>Test_Score</th>\n",
       "      <th>Grade</th>\n",
       "    </tr>\n",
       "  </thead>\n",
       "  <tbody>\n",
       "    <tr>\n",
       "      <th>43</th>\n",
       "      <td>S0353</td>\n",
       "      <td>23</td>\n",
       "      <td>Male</td>\n",
       "      <td>0.118519</td>\n",
       "      <td>0.600306</td>\n",
       "      <td>0.0</td>\n",
       "      <td>NaN</td>\n",
       "    </tr>\n",
       "    <tr>\n",
       "      <th>300</th>\n",
       "      <td>S0635</td>\n",
       "      <td>23</td>\n",
       "      <td>Female</td>\n",
       "      <td>0.118519</td>\n",
       "      <td>0.283308</td>\n",
       "      <td>0.0</td>\n",
       "      <td>NaN</td>\n",
       "    </tr>\n",
       "    <tr>\n",
       "      <th>359</th>\n",
       "      <td>S0545</td>\n",
       "      <td>19</td>\n",
       "      <td>Female</td>\n",
       "      <td>0.088889</td>\n",
       "      <td>0.486983</td>\n",
       "      <td>0.0</td>\n",
       "      <td>NaN</td>\n",
       "    </tr>\n",
       "    <tr>\n",
       "      <th>500</th>\n",
       "      <td>S0860</td>\n",
       "      <td>19</td>\n",
       "      <td>Male</td>\n",
       "      <td>0.092593</td>\n",
       "      <td>0.799387</td>\n",
       "      <td>0.0</td>\n",
       "      <td>NaN</td>\n",
       "    </tr>\n",
       "    <tr>\n",
       "      <th>662</th>\n",
       "      <td>S0868</td>\n",
       "      <td>24</td>\n",
       "      <td>Female</td>\n",
       "      <td>0.107407</td>\n",
       "      <td>0.617152</td>\n",
       "      <td>0.0</td>\n",
       "      <td>NaN</td>\n",
       "    </tr>\n",
       "    <tr>\n",
       "      <th>775</th>\n",
       "      <td>S0497</td>\n",
       "      <td>18</td>\n",
       "      <td>Male</td>\n",
       "      <td>0.066667</td>\n",
       "      <td>0.422665</td>\n",
       "      <td>0.0</td>\n",
       "      <td>NaN</td>\n",
       "    </tr>\n",
       "    <tr>\n",
       "      <th>909</th>\n",
       "      <td>S0725</td>\n",
       "      <td>24</td>\n",
       "      <td>Male</td>\n",
       "      <td>0.066667</td>\n",
       "      <td>0.120980</td>\n",
       "      <td>0.0</td>\n",
       "      <td>NaN</td>\n",
       "    </tr>\n",
       "    <tr>\n",
       "      <th>972</th>\n",
       "      <td>S0958</td>\n",
       "      <td>20</td>\n",
       "      <td>Female</td>\n",
       "      <td>0.081481</td>\n",
       "      <td>0.650842</td>\n",
       "      <td>0.0</td>\n",
       "      <td>NaN</td>\n",
       "    </tr>\n",
       "  </tbody>\n",
       "</table>\n",
       "</div>"
      ],
      "text/plain": [
       "    Student_ID  Age  Gender  Study_Hours  Attendance(%)  Test_Score Grade\n",
       "43       S0353   23    Male     0.118519       0.600306         0.0   NaN\n",
       "300      S0635   23  Female     0.118519       0.283308         0.0   NaN\n",
       "359      S0545   19  Female     0.088889       0.486983         0.0   NaN\n",
       "500      S0860   19    Male     0.092593       0.799387         0.0   NaN\n",
       "662      S0868   24  Female     0.107407       0.617152         0.0   NaN\n",
       "775      S0497   18    Male     0.066667       0.422665         0.0   NaN\n",
       "909      S0725   24    Male     0.066667       0.120980         0.0   NaN\n",
       "972      S0958   20  Female     0.081481       0.650842         0.0   NaN"
      ]
     },
     "execution_count": 67,
     "metadata": {},
     "output_type": "execute_result"
    }
   ],
   "source": [
    "# Заполнение категорийных пропусков\n",
    "# Анализ\n",
    "ds[ds['Grade'].isna()]"
   ]
  },
  {
   "cell_type": "markdown",
   "id": "bbe4acbb-8cc4-429e-816e-e2600e0cb3da",
   "metadata": {},
   "source": [
    "Видно, что `Grade` не заполнено там, где `Study_Hours` имеет очень низкое значение (явно, ошибки ввода или выброс) и при этом `Attendance(%)` варьируется от низкого до высокого, а `Test_Score` == 0, т.е. тестирование студент не прошел. Можно предположить, что `Grade` не заполнено специально. Поэтому логичнее было бы заменить NaN на осмысленное значение, к примеру, \"Unknown\" или \"Тo data\"."
   ]
  },
  {
   "cell_type": "code",
   "execution_count": 68,
   "id": "3d17bcea-da68-4c1d-8bd4-6ee9e7d955e6",
   "metadata": {},
   "outputs": [],
   "source": [
    "ds['Grade'].fillna('Unknown', inplace=True)"
   ]
  },
  {
   "cell_type": "markdown",
   "id": "ff268f86-3ab8-48f9-9972-5357dc90ae2a",
   "metadata": {},
   "source": [
    "## Кодирование категориальных переменных"
   ]
  },
  {
   "cell_type": "markdown",
   "id": "01e1b332-5ce9-4538-822d-8b8f1a6263de",
   "metadata": {},
   "source": [
    "Анализ категорийных ппеременных:\n",
    "`Student_ID` - уникальный идентификатор, не подлежит кодированию\n",
    "`Gender` - бинарный (Male/Female), оптимальное кодирование - Label Encoding\n",
    "`Grade` - упорядоченный (A–E), кодирование - Ordinal Encoding"
   ]
  },
  {
   "cell_type": "code",
   "execution_count": 72,
   "id": "12384358-8cb4-4d9d-9f34-10989072aea5",
   "metadata": {},
   "outputs": [],
   "source": [
    "# Label Encoding для Gender\n",
    "from sklearn.preprocessing import LabelEncoder, OrdinalEncoder\n",
    "\n",
    "le_gender = LabelEncoder()\n",
    "ds['Gender_enc'] = le_gender.fit_transform(ds['Gender'])"
   ]
  },
  {
   "cell_type": "code",
   "execution_count": 73,
   "id": "a259a63f-88af-4cff-af9d-70c864387d80",
   "metadata": {},
   "outputs": [
    {
     "name": "stdout",
     "output_type": "stream",
     "text": [
      "Уникальные значения Grade:\n"
     ]
    },
    {
     "data": {
      "text/plain": [
       "array(['F', 'A', 'C', 'B', 'A+', 'Unknown'], dtype=object)"
      ]
     },
     "execution_count": 73,
     "metadata": {},
     "output_type": "execute_result"
    }
   ],
   "source": [
    "# Ordinal Encoding для Grade\n",
    "print(\"Уникальные значения Grade:\")\n",
    "ds['Grade'].unique()"
   ]
  },
  {
   "cell_type": "code",
   "execution_count": 77,
   "id": "3c7011e1-e601-4c77-abec-a4b01a3dca38",
   "metadata": {},
   "outputs": [],
   "source": [
    "grade_order = [['Unknown', 'F', 'C', 'B', 'A', 'A+']]\n",
    "encoder_grade = OrdinalEncoder(categories=grade_order)\n",
    "\n",
    "ds['Grade_enc'] = encoder_grade.fit_transform(ds[['Grade']])\n",
    "\n",
    "ds['Grade_enc'] = ds['Grade_enc'].astype(int)"
   ]
  },
  {
   "cell_type": "code",
   "execution_count": 78,
   "id": "f88eed1c-c84b-4ea6-87b4-5213310b7eb9",
   "metadata": {},
   "outputs": [
    {
     "name": "stdout",
     "output_type": "stream",
     "text": [
      "Категориальные признаки успешно закодированы:\n"
     ]
    },
    {
     "data": {
      "text/html": [
       "<div>\n",
       "<style scoped>\n",
       "    .dataframe tbody tr th:only-of-type {\n",
       "        vertical-align: middle;\n",
       "    }\n",
       "\n",
       "    .dataframe tbody tr th {\n",
       "        vertical-align: top;\n",
       "    }\n",
       "\n",
       "    .dataframe thead th {\n",
       "        text-align: right;\n",
       "    }\n",
       "</style>\n",
       "<table border=\"1\" class=\"dataframe\">\n",
       "  <thead>\n",
       "    <tr style=\"text-align: right;\">\n",
       "      <th></th>\n",
       "      <th>Gender</th>\n",
       "      <th>Gender_enc</th>\n",
       "      <th>Grade</th>\n",
       "      <th>Grade_enc</th>\n",
       "    </tr>\n",
       "  </thead>\n",
       "  <tbody>\n",
       "    <tr>\n",
       "      <th>0</th>\n",
       "      <td>Female</td>\n",
       "      <td>0</td>\n",
       "      <td>F</td>\n",
       "      <td>1</td>\n",
       "    </tr>\n",
       "    <tr>\n",
       "      <th>1</th>\n",
       "      <td>Male</td>\n",
       "      <td>1</td>\n",
       "      <td>F</td>\n",
       "      <td>1</td>\n",
       "    </tr>\n",
       "    <tr>\n",
       "      <th>2</th>\n",
       "      <td>Female</td>\n",
       "      <td>0</td>\n",
       "      <td>A</td>\n",
       "      <td>4</td>\n",
       "    </tr>\n",
       "    <tr>\n",
       "      <th>3</th>\n",
       "      <td>Female</td>\n",
       "      <td>0</td>\n",
       "      <td>C</td>\n",
       "      <td>2</td>\n",
       "    </tr>\n",
       "    <tr>\n",
       "      <th>4</th>\n",
       "      <td>Male</td>\n",
       "      <td>1</td>\n",
       "      <td>B</td>\n",
       "      <td>3</td>\n",
       "    </tr>\n",
       "    <tr>\n",
       "      <th>5</th>\n",
       "      <td>Male</td>\n",
       "      <td>1</td>\n",
       "      <td>F</td>\n",
       "      <td>1</td>\n",
       "    </tr>\n",
       "    <tr>\n",
       "      <th>6</th>\n",
       "      <td>Female</td>\n",
       "      <td>0</td>\n",
       "      <td>F</td>\n",
       "      <td>1</td>\n",
       "    </tr>\n",
       "    <tr>\n",
       "      <th>7</th>\n",
       "      <td>Female</td>\n",
       "      <td>0</td>\n",
       "      <td>C</td>\n",
       "      <td>2</td>\n",
       "    </tr>\n",
       "    <tr>\n",
       "      <th>8</th>\n",
       "      <td>Male</td>\n",
       "      <td>1</td>\n",
       "      <td>B</td>\n",
       "      <td>3</td>\n",
       "    </tr>\n",
       "    <tr>\n",
       "      <th>9</th>\n",
       "      <td>Male</td>\n",
       "      <td>1</td>\n",
       "      <td>F</td>\n",
       "      <td>1</td>\n",
       "    </tr>\n",
       "  </tbody>\n",
       "</table>\n",
       "</div>"
      ],
      "text/plain": [
       "   Gender  Gender_enc Grade  Grade_enc\n",
       "0  Female           0     F          1\n",
       "1    Male           1     F          1\n",
       "2  Female           0     A          4\n",
       "3  Female           0     C          2\n",
       "4    Male           1     B          3\n",
       "5    Male           1     F          1\n",
       "6  Female           0     F          1\n",
       "7  Female           0     C          2\n",
       "8    Male           1     B          3\n",
       "9    Male           1     F          1"
      ]
     },
     "metadata": {},
     "output_type": "display_data"
    }
   ],
   "source": [
    "print(\"Категориальные признаки успешно закодированы:\")\n",
    "display(ds[['Gender', 'Gender_enc', 'Grade', 'Grade_enc']].head(10))"
   ]
  },
  {
   "cell_type": "markdown",
   "id": "94f4c4e6-640b-4e69-985d-1e87bd56b9f7",
   "metadata": {},
   "source": [
    "## Исследовательский анализ данных (EDA)"
   ]
  },
  {
   "cell_type": "code",
   "execution_count": 82,
   "id": "bcbb3bc5-2257-4597-af1d-2e8c21c26e4a",
   "metadata": {},
   "outputs": [
    {
     "data": {
      "image/png": "[encoded data removed]",
      "text/plain": [
       "<Figure size 600x400 with 1 Axes>"
      ]
     },
     "metadata": {},
     "output_type": "display_data"
    },
    {
     "data": {
      "image/png": "[encoded data removed]",
      "text/plain": [
       "<Figure size 1000x400 with 4 Axes>"
      ]
     },
     "metadata": {},
     "output_type": "display_data"
    },
    {
     "data": {
      "image/png": "[encoded data removed]",
      "text/plain": [
       "<Figure size 600x400 with 2 Axes>"
      ]
     },
     "metadata": {},
     "output_type": "display_data"
    },
    {
     "data": {
      "image/png": "[encoded data removed]",
      "text/plain": [
       "<Figure size 700x500 with 1 Axes>"
      ]
     },
     "metadata": {},
     "output_type": "display_data"
    }
   ],
   "source": [
    "import matplotlib.pyplot as plt\n",
    "import seaborn as sns\n",
    "\n",
    "# === 1. Распределение оценок (Grade) ===\n",
    "plt.figure(figsize=(6,4))\n",
    "sns.countplot(x='Grade', data=ds, order=['Unknown','F','C','B','A','A+'], palette='viridis')\n",
    "plt.title('Распределение оценок студентов')\n",
    "plt.xlabel('Grade')\n",
    "plt.ylabel('Количество')\n",
    "plt.show()\n",
    "\n",
    "# === 2. Распределение числовых признаков ===\n",
    "numeric_cols = ['Study_Hours', 'Attendance(%)', 'Test_Score']\n",
    "ds[numeric_cols].hist(bins=20, figsize=(10,4), color='teal')\n",
    "plt.suptitle('Распределение числовых признаков')\n",
    "plt.show()\n",
    "\n",
    "# === 3. Корреляции между числовыми признаками ===\n",
    "plt.figure(figsize=(6,4))\n",
    "sns.heatmap(ds[numeric_cols].corr(), annot=True, cmap='YlGnBu', fmt=\".2f\")\n",
    "plt.title('Корреляция числовых признаков')\n",
    "plt.show()\n",
    "\n",
    "# === 4. Взаимосвязь между часами учёбы, посещаемостью и оценками ===\n",
    "plt.figure(figsize=(7,5))\n",
    "sns.scatterplot(data=ds, x='Study_Hours', y='Test_Score', hue='Grade', palette='viridis')\n",
    "plt.title('Зависимость Test_Score от Study_Hours по Grade')\n",
    "plt.show()\n"
   ]
  },
  {
   "cell_type": "markdown",
   "id": "fc4b38b1-e48a-4708-89b7-c7eb4858e9cc",
   "metadata": {},
   "source": [
    "## Выводы по исследовательскому анализу\n",
    "1. **Распределение оценок:** большинство студентов получили оценки “B” и “A”, небольшая доля имеет “F” и “Unknown”.\n",
    "2. **Study_Hours и Attendance(%):** распределены примерно нормально, основная масса студентов учится 3–7 часов и посещает занятия на 70–95%.\n",
    "3. **Test_Score:** значения в диапазоне 0–100 с пиком около 50 баллов.\n",
    "4. **Корреляции:** наблюдается умеренная положительная связь между количеством часов учёбы и итоговым баллом (`r ≈ 0.6`), а также между посещаемостью и успеваемостью.\n",
    "5. **Общий вывод:** чем выше посещаемость и больше учебных часов, тем выше итоговая оценка."
   ]
  },
  {
   "cell_type": "markdown",
   "id": "510a2dc8-2e7c-45df-afc5-6db4a2cc0bf0",
   "metadata": {},
   "source": [
    "## Регрессионный анализ"
   ]
  },
  {
   "cell_type": "code",
   "execution_count": 83,
   "id": "7f2ed35d-228b-4a87-a366-de2411b2a6c0",
   "metadata": {},
   "outputs": [],
   "source": [
    "# Подготовка данных\n",
    "from sklearn.model_selection import train_test_split\n",
    "from sklearn.linear_model import LinearRegression\n",
    "from sklearn.metrics import r2_score, mean_squared_error\n",
    "\n",
    "# Выбор признаков\n",
    "features = ['Study_Hours', 'Attendance(%)', 'Gender_enc', 'Grade_enc']\n",
    "target = 'Test_Score'\n",
    "\n",
    "X = ds[features]\n",
    "y = ds[target]\n",
    "\n",
    "# Разделение на обучающую и тестовую выборку\n",
    "X_train, X_test, y_train, y_test = train_test_split(X, y, test_size=0.2, random_state=42)"
   ]
  },
  {
   "cell_type": "code",
   "execution_count": 84,
   "id": "38909040-eddc-4968-863d-be4968110bac",
   "metadata": {},
   "outputs": [],
   "source": [
    "# Обучение модели\n",
    "model = LinearRegression()\n",
    "model.fit(X_train, y_train)\n",
    "\n",
    "# Предсказания\n",
    "y_pred = model.predict(X_test)"
   ]
  },
  {
   "cell_type": "code",
   "execution_count": 85,
   "id": "4463df36-e897-46f2-9188-ccd5d16f5534",
   "metadata": {},
   "outputs": [
    {
     "name": "stdout",
     "output_type": "stream",
     "text": [
      "R²: 0.880\n",
      "Среднеквадратичная ошибка (MSE): 0.006\n"
     ]
    }
   ],
   "source": [
    "# Оценка качества модели\n",
    "r2 = r2_score(y_test, y_pred)\n",
    "mse = mean_squared_error(y_test, y_pred)\n",
    "\n",
    "print(f\"R²: {r2:.3f}\")\n",
    "print(f\"Среднеквадратичная ошибка (MSE): {mse:.3f}\")"
   ]
  },
  {
   "cell_type": "markdown",
   "id": "efa9f3dc-dc54-41e9-93b7-e049c8291571",
   "metadata": {},
   "source": [
    "## Выводы\n",
    "- Значение R² показывает, какая доля дисперсии Test_Score объясняется моделью.\n",
    "(Например, R² = 0.88 → модель объясняет 88% изменений результата теста.)\n",
    "- MSE демонстрирует среднюю ошибку прогноза модели — чем меньше, тем лучше."
   ]
  },
  {
   "cell_type": "code",
   "execution_count": 86,
   "id": "8571ecf3-145c-4f51-928c-e8c8041aa586",
   "metadata": {},
   "outputs": [
    {
     "data": {
      "text/html": [
       "<div>\n",
       "<style scoped>\n",
       "    .dataframe tbody tr th:only-of-type {\n",
       "        vertical-align: middle;\n",
       "    }\n",
       "\n",
       "    .dataframe tbody tr th {\n",
       "        vertical-align: top;\n",
       "    }\n",
       "\n",
       "    .dataframe thead th {\n",
       "        text-align: right;\n",
       "    }\n",
       "</style>\n",
       "<table border=\"1\" class=\"dataframe\">\n",
       "  <thead>\n",
       "    <tr style=\"text-align: right;\">\n",
       "      <th></th>\n",
       "      <th>Feature</th>\n",
       "      <th>Coefficient</th>\n",
       "    </tr>\n",
       "  </thead>\n",
       "  <tbody>\n",
       "    <tr>\n",
       "      <th>0</th>\n",
       "      <td>Study_Hours</td>\n",
       "      <td>0.431</td>\n",
       "    </tr>\n",
       "    <tr>\n",
       "      <th>3</th>\n",
       "      <td>Grade_enc</td>\n",
       "      <td>0.121</td>\n",
       "    </tr>\n",
       "    <tr>\n",
       "      <th>2</th>\n",
       "      <td>Gender_enc</td>\n",
       "      <td>0.002</td>\n",
       "    </tr>\n",
       "    <tr>\n",
       "      <th>1</th>\n",
       "      <td>Attendance(%)</td>\n",
       "      <td>-0.040</td>\n",
       "    </tr>\n",
       "  </tbody>\n",
       "</table>\n",
       "</div>"
      ],
      "text/plain": [
       "         Feature  Coefficient\n",
       "0    Study_Hours        0.431\n",
       "3      Grade_enc        0.121\n",
       "2     Gender_enc        0.002\n",
       "1  Attendance(%)       -0.040"
      ]
     },
     "metadata": {},
     "output_type": "display_data"
    }
   ],
   "source": [
    "# Анализ влияния факторов\n",
    "coef_table = pd.DataFrame({\n",
    "    'Feature': features,\n",
    "    'Coefficient': model.coef_.round(3)\n",
    "}).sort_values('Coefficient', ascending=False)\n",
    "\n",
    "display(coef_table)"
   ]
  },
  {
   "cell_type": "markdown",
   "id": "e3110aad-5e33-4f0e-9142-bc27724f3425",
   "metadata": {},
   "source": [
    "## Влияние признаков:\n",
    "- **`Study_Hours` (0.431)** — самый значимый фактор, увеличивающий результат теста.\n",
    "- **`Grade_enc` (0.121)** также оказывает положительное влияние, что логично: более высокая оценка соответствует лучшей успеваемости.\n",
    "- **`Gender_enc` (0.002)** почти не влияет на итоговый балл.\n",
    "- **`Attendance(%)` (–0.040)** имеет слабое отрицательное влияние, что может указывать на то, что одного посещения занятий недостаточно без активного самостоятельного обучения."
   ]
  },
  {
   "cell_type": "markdown",
   "id": "77ddfd8e-6bc7-4102-a9a8-b6673b1bb8fb",
   "metadata": {},
   "source": [
    "# Итог\n",
    "Модель показала, что успех студентов в тестах в первую очередь зависит от времени, потраченного на обучение, и в меньшей степени — от академической оценки.\n",
    "Посещаемость не всегда гарантирует высокий результат, если не сопровождается активным изучением материала."
   ]
  },
  {
   "cell_type": "code",
   "execution_count": null,
   "id": "1e15c94f-4bbe-495b-ad0a-ea434dd290cc",
   "metadata": {},
   "outputs": [],
   "source": []
  }
 ],
 "metadata": {
  "kernelspec": {
   "display_name": "Python [conda env:myenv]",
   "language": "python",
   "name": "conda-env-myenv-py"
  },
  "language_info": {
   "codemirror_mode": {
    "name": "ipython",
    "version": 3
   },
   "file_extension": ".py",
   "mimetype": "text/x-python",
   "name": "python",
   "nbconvert_exporter": "python",
   "pygments_lexer": "ipython3",
   "version": "3.9.23"
  }
 },
 "nbformat": 4,
 "nbformat_minor": 5
}
