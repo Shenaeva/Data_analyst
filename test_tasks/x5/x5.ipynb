{
 "cells": [
  {
   "cell_type": "markdown",
   "id": "546a4b94-9d8e-4708-97d1-9420562fb1fc",
   "metadata": {},
   "source": [
    "Задача 1. \n",
    "Дан целочисленный массив. Необходимо\n",
    "вывести true, если есть повторения и false, если нет.\n",
    "Input: nums = [1,2,3,1] Output: true\n",
    "Input: nums = [1,2,3,4] Output: false"
   ]
  },
  {
   "cell_type": "code",
   "execution_count": 4,
   "id": "dc591de0-2fb2-415e-b010-ba920d8d9629",
   "metadata": {},
   "outputs": [
    {
     "name": "stdout",
     "output_type": "stream",
     "text": [
      "True\n",
      "False\n"
     ]
    }
   ],
   "source": [
    "#Решение:\n",
    "def resp(nums):\n",
    "    return len(set(nums)) != len(nums)\n",
    "print(resp([1, 2, 3, 1]))\n",
    "print(resp([1, 2, 3, 4])) "
   ]
  },
  {
   "cell_type": "markdown",
   "id": "2ca8bb79-1f3e-43ca-ba49-9f3b33a5fc31",
   "metadata": {},
   "source": [
    "Задача 2.\n",
    "Дано число n. Вернуть факториал этого числа. Вызвать -1, если n не целочисленно, а так же если n отрицательно:"
   ]
  },
  {
   "cell_type": "code",
   "execution_count": 15,
   "id": "7fc163ff-0378-4354-9908-b9131684df0b",
   "metadata": {},
   "outputs": [
    {
     "name": "stdout",
     "output_type": "stream",
     "text": [
      "1\n"
     ]
    }
   ],
   "source": [
    "# Решение\n",
    "def factorial(n):\n",
    "    if isinstance(n, float) or n < 0:\n",
    "        return -1\n",
    "    else:\n",
    "        result = 1\n",
    "        for i in range (1, n+1):\n",
    "            result *= i\n",
    "        return result\n",
    "print(factorial(0))"
   ]
  },
  {
   "cell_type": "code",
   "execution_count": null,
   "id": "78cb3ae2-6287-476a-bb88-f42fedeb3e14",
   "metadata": {},
   "outputs": [],
   "source": []
  }
 ],
 "metadata": {
  "kernelspec": {
   "display_name": "Python [conda env:myenv]",
   "language": "python",
   "name": "conda-env-myenv-py"
  },
  "language_info": {
   "codemirror_mode": {
    "name": "ipython",
    "version": 3
   },
   "file_extension": ".py",
   "mimetype": "text/x-python",
   "name": "python",
   "nbconvert_exporter": "python",
   "pygments_lexer": "ipython3",
   "version": "3.9.23"
  }
 },
 "nbformat": 4,
 "nbformat_minor": 5
}
