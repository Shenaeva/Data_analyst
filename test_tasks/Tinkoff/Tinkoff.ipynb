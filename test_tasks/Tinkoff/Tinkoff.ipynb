{
 "cells": [
  {
   "cell_type": "markdown",
   "id": "c1d7161b-b806-4ca4-afdc-222f134ed2b3",
   "metadata": {},
   "source": [
    "1. Может ли измениться результат запроса, если в LEFT JOIN поменять таблицы местами?"
   ]
  },
  {
   "cell_type": "markdown",
   "id": "82c72d07-e555-4e15-b87b-4900857a0289",
   "metadata": {},
   "source": [
    "Да, т.к. при соединении таблицы через left join, в результат всегда добавляются все строки из левой таблицы (той, что указана первой), даже если в правой нет соответствующих данных. Если поменять местами таблицы, то «левой» станет другая таблица, и именно её строки будут включены в результат. Это может привести к изменению количества строк в выборке и к разным результатам при использовании фильтров\n",
    "\n",
    "Например, в задаче https://stepik.org/lesson/308886/step/3?unit=291012\n",
    "При запросе \n",
    "select name_genre\n",
    "from book b left join genre g\n",
    "on g.genre_id = b.genre_id\n",
    "where b.genre_id is null\n",
    "Результат = 0 записей\n",
    "\n",
    "А при запросе \n",
    "select name_genre\n",
    "from genre g left join book b\n",
    "on g.genre_id = b.genre_id\n",
    "where b.genre_id is null\n",
    "Результат = 1 запись"
   ]
  },
  {
   "cell_type": "markdown",
   "id": "128b3fee-e965-4c3d-af1d-b992d095cb5a",
   "metadata": {},
   "source": [
    "2. Сколько будет 5 + NULL?"
   ]
  },
  {
   "cell_type": "markdown",
   "id": "8c72a116-9523-41d6-abfe-68e856098d14",
   "metadata": {},
   "source": [
    "В результате вернется или останет (при update, к примеру) null. "
   ]
  },
  {
   "cell_type": "markdown",
   "id": "2ea23123-8ef0-4a63-a213-9491f6358cbf",
   "metadata": {},
   "source": [
    "3. Можно ли делать JOIN таблицы саму на себя?"
   ]
  },
  {
   "cell_type": "markdown",
   "id": "ee0e8604-4a92-49f5-974b-96aa05c808f4",
   "metadata": {},
   "source": [
    "Да, можно. Это удобно использовать для сравнения данных из одной и той же страницу."
   ]
  },
  {
   "cell_type": "markdown",
   "id": "79c81370-c388-492a-8e4a-da89a7dead9e",
   "metadata": {},
   "source": [
    "4. Может ли ORDER BY приводить к уменьшению числа строк в результате выполнения?"
   ]
  },
  {
   "cell_type": "markdown",
   "id": "1701c96e-9a78-4902-97b9-ad0ce93de6c0",
   "metadata": {},
   "source": [
    "Нет, сам order by не может привести к изменению количества строк в результате запроса. Он отвечает за сортировку результата."
   ]
  },
  {
   "cell_type": "markdown",
   "id": "97d4ae35-3ebe-45ba-8547-a1bc6b8081dd",
   "metadata": {},
   "source": [
    "5. При каких типах соединения условие из WHERE можно перенести в ON с гарантированным сохранением результата запроса?"
   ]
  },
  {
   "cell_type": "markdown",
   "id": "ba9a5d2c-b6a9-4e90-bc21-1b25aa2eb1fd",
   "metadata": {},
   "source": [
    "При соединении черех inner join или просто join. \n",
    "Пример запроса:\n",
    "seelct * from a inner join b on a.id = b.id and b.num = 10"
   ]
  },
  {
   "cell_type": "markdown",
   "id": "c984b06b-c808-46b1-9306-33c9624fd6f2",
   "metadata": {},
   "source": [
    "6. Какой из операторов: SELECT, FROM, WHERE, GROUP BY - будет выполняться последним при обработке запроса?"
   ]
  },
  {
   "cell_type": "markdown",
   "id": "fc77bd7b-9c5f-4973-9237-52be4f5b2a8f",
   "metadata": {},
   "source": [
    "Последним будет обработан select. Подобный набор операторов в запросе будет обработан в следующем порядке:  from, where, group by, select"
   ]
  },
  {
   "cell_type": "markdown",
   "id": "41b29717-9a34-419e-a176-da47c149fd10",
   "metadata": {},
   "source": [
    "7. Какие функции умеют возвращать значения из предыдущих/последующих строк для заданной строки таблицы?"
   ]
  },
  {
   "cell_type": "markdown",
   "id": "fd017a4a-77f6-4700-bd5f-4fb8677feeb4",
   "metadata": {},
   "source": [
    "Оконные функции:\n",
    "lag - значение из предыдущей строки\n",
    "lead - значение из следующей строки"
   ]
  },
  {
   "cell_type": "markdown",
   "id": "ce805d71-8521-4d1f-8630-972887353de5",
   "metadata": {},
   "source": [
    "8. Какое минимальное и максимальное количество записей может выдать FULL JOIN таблицы на 10 строк с таблицей на 100 строк?"
   ]
  },
  {
   "cell_type": "markdown",
   "id": "67c7ad74-5a2a-43e2-b275-09b2bd06a013",
   "metadata": {},
   "source": [
    "Минимально 100\n",
    "Максимально 1000, если условие совпало так, что , каждая из 10 строк первой таблицы соединяется со всеми 100 строками второй"
   ]
  }
 ],
 "metadata": {
  "kernelspec": {
   "display_name": "Python [conda env:base] *",
   "language": "python",
   "name": "conda-base-py"
  },
  "language_info": {
   "codemirror_mode": {
    "name": "ipython",
    "version": 3
   },
   "file_extension": ".py",
   "mimetype": "text/x-python",
   "name": "python",
   "nbconvert_exporter": "python",
   "pygments_lexer": "ipython3",
   "version": "3.11.5"
  }
 },
 "nbformat": 4,
 "nbformat_minor": 5
}
